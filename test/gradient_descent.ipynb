{
 "cells": [
  {
   "cell_type": "markdown",
   "id": "52b59847-8e29-4987-b263-3627412388f9",
   "metadata": {},
   "source": [
    " the probability prediction of the model"
   ]
  },
  {
   "cell_type": "code",
   "execution_count": 1,
   "id": "ef224f72-8b63-492c-a46f-ac0e79052841",
   "metadata": {},
   "outputs": [],
   "source": [
    "import numpy as np\n",
    "\n",
    "def sigmoid(z):\n",
    "    return 1 / (1 + np.exp(-z))\n"
   ]
  },
  {
   "cell_type": "markdown",
   "id": "7fbca925-ffea-4c47-9ed8-635b2559174e",
   "metadata": {},
   "source": [
    "The cost function for logistic regression "
   ]
  },
  {
   "cell_type": "code",
   "execution_count": 2,
   "id": "fe9f0968-08d5-4a9e-8032-8aa5a77cf833",
   "metadata": {},
   "outputs": [],
   "source": [
    "def compute_cost(theta, X, y):\n",
    "    m = len(y)\n",
    "    h = sigmoid(np.dot(X, theta))\n",
    "    cost = -1/m * np.sum(y * np.log(h) + (1 - y) * np.log(1 - h))\n",
    "    return cost\n"
   ]
  },
  {
   "cell_type": "markdown",
   "id": "b59a6430-9874-4ff8-a720-fa683700b814",
   "metadata": {},
   "source": [
    "To optimize J(θ), we need the gradient (partial derivatives) of J(θ) with respect to θj"
   ]
  },
  {
   "cell_type": "code",
   "execution_count": 3,
   "id": "256f1116-e823-4ae4-91b8-a3eb93932d9b",
   "metadata": {},
   "outputs": [],
   "source": [
    "def compute_gradient(theta, X, y):\n",
    "    m = len(y)\n",
    "    h = sigmoid(np.dot(X, theta))\n",
    "    gradient = 1/m * np.dot(X.T, (h - y))\n",
    "    return gradient\n"
   ]
  },
  {
   "cell_type": "code",
   "execution_count": 4,
   "id": "af860ad2-52a4-4613-b92a-22ac08f17091",
   "metadata": {},
   "outputs": [
    {
     "name": "stdout",
     "output_type": "stream",
     "text": [
      "Initial Cost: 0.6931471805599453\n",
      "Gradient: [ 0.  -0.5]\n"
     ]
    }
   ],
   "source": [
    "X = np.array([[1, 2], [1, 3], [1, 4], [1, 5]])\n",
    "y = np.array([0, 0, 1, 1])\n",
    "theta = np.array([0, 0])\n",
    "\n",
    "\n",
    "cost = compute_cost(theta, X, y)\n",
    "gradient = compute_gradient(theta, X, y)\n",
    "\n",
    "print(\"Initial Cost:\", cost)\n",
    "print(\"Gradient:\", gradient)"
   ]
  },
  {
   "cell_type": "code",
   "execution_count": null,
   "id": "ea8124bd-32db-435d-9913-01b264e52689",
   "metadata": {},
   "outputs": [],
   "source": []
  }
 ],
 "metadata": {
  "kernelspec": {
   "display_name": "Python 3 (ipykernel)",
   "language": "python",
   "name": "python3"
  },
  "language_info": {
   "codemirror_mode": {
    "name": "ipython",
    "version": 3
   },
   "file_extension": ".py",
   "mimetype": "text/x-python",
   "name": "python",
   "nbconvert_exporter": "python",
   "pygments_lexer": "ipython3",
   "version": "3.10.11"
  }
 },
 "nbformat": 4,
 "nbformat_minor": 5
}
